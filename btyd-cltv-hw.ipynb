{
 "cells": [
  {
   "cell_type": "markdown",
   "metadata": {
    "papermill": {
     "duration": 0.004452,
     "end_time": "2023-12-12T12:42:19.473084",
     "exception": false,
     "start_time": "2023-12-12T12:42:19.468632",
     "status": "completed"
    },
    "tags": []
   },
   "source": [
    "# **Buy Till You Die Models: Customer Lifetime Value**"
   ]
  },
  {
   "cell_type": "markdown",
   "metadata": {
    "papermill": {
     "duration": 0.003231,
     "end_time": "2023-12-12T12:42:19.479989",
     "exception": false,
     "start_time": "2023-12-12T12:42:19.476758",
     "status": "completed"
    },
    "tags": []
   },
   "source": [
    "<p><img style=\"float: left;margin:20px 10px 5px 1px; max-width:380px\" src=\"https://i.ytimg.com/vi/l_xwYM2KNX0/maxresdefault.jpg\"></p>\n",
    "<p> The Buy Till You Die (BTYD) class of statistical models is designed to predict the behavioral characteristics of customers. The main purpose is to model and forecast customer lifetime value. </p>\n",
    "<p> Customer lifetime value (CLTV or CLV) can be defined as the present value of a customer for the company based on projected future cash flows from the customer relationship. CLTV represents the total amount of money spent on the business or products over lifetime of a customer.</p>\n",
    "<p> In this notebook, I'll try to apply a BTYD model on an online retail dataset to make a 1-year CLTV prediction.</p> "
   ]
  },
  {
   "cell_type": "markdown",
   "metadata": {
    "papermill": {
     "duration": 0.003123,
     "end_time": "2023-12-12T12:42:19.486534",
     "exception": false,
     "start_time": "2023-12-12T12:42:19.483411",
     "status": "completed"
    },
    "tags": []
   },
   "source": [
    "## 1. Loading the Dataset & Checking Variables"
   ]
  },
  {
   "cell_type": "markdown",
   "metadata": {
    "papermill": {
     "duration": 0.003186,
     "end_time": "2023-12-12T12:42:19.493265",
     "exception": false,
     "start_time": "2023-12-12T12:42:19.490079",
     "status": "completed"
    },
    "tags": []
   },
   "source": [
    "\n",
    "### ****Content of Dataset****\n",
    "\n",
    "This Online Retail II data set contains all the transactions occurring for a UK-based and registered, non-store online retail between 01/12/2009 and 09/12/2011.The company mainly sells unique all-occasion gift-ware. Many customers of the company are wholesalers."
   ]
  },
  {
   "cell_type": "markdown",
   "metadata": {
    "papermill": {
     "duration": 0.003082,
     "end_time": "2023-12-12T12:42:19.499706",
     "exception": false,
     "start_time": "2023-12-12T12:42:19.496624",
     "status": "completed"
    },
    "tags": []
   },
   "source": [
    "### ****Definiton of Variables****\n",
    "1. **Invoice:** Invoice number, unique identifier variable for each transaction. Refund invoice numbers starts with \"C\"\n",
    "2. **StockCode:** Unique product code\n",
    "3. **Description:** Product name\n",
    "4. **Quantity:** The number of product in the invoice\n",
    "5. **InvoiceDate:** Date and time of the purchase\n",
    "6. **Price:** Unit price of a product (in terms of Sterlin)\n",
    "7. **CustomerID:** Unique customer identifier\n",
    "8. **Country:** Residential country of customers"
   ]
  },
  {
   "cell_type": "code",
   "execution_count": 1,
   "metadata": {
    "_kg_hide-output": true,
    "execution": {
     "iopub.execute_input": "2023-12-12T12:42:19.521793Z",
     "iopub.status.busy": "2023-12-12T12:42:19.521207Z",
     "iopub.status.idle": "2023-12-12T12:44:48.928056Z",
     "shell.execute_reply": "2023-12-12T12:44:48.928518Z"
    },
    "papermill": {
     "duration": 149.425903,
     "end_time": "2023-12-12T12:44:48.928868",
     "exception": false,
     "start_time": "2023-12-12T12:42:19.502965",
     "status": "completed"
    },
    "tags": []
   },
   "outputs": [
    {
     "name": "stdout",
     "output_type": "stream",
     "text": [
      "\u001b[33mWARNING: Retrying (Retry(total=4, connect=None, read=None, redirect=None, status=None)) after connection broken by 'NewConnectionError('<pip._vendor.urllib3.connection.HTTPSConnection object at 0x7ea093168e10>: Failed to establish a new connection: [Errno -3] Temporary failure in name resolution')': /simple/openpyxl/\u001b[0m\r\n",
      "\u001b[33mWARNING: Retrying (Retry(total=3, connect=None, read=None, redirect=None, status=None)) after connection broken by 'NewConnectionError('<pip._vendor.urllib3.connection.HTTPSConnection object at 0x7ea09311a250>: Failed to establish a new connection: [Errno -3] Temporary failure in name resolution')': /simple/openpyxl/\u001b[0m\r\n",
      "\u001b[33mWARNING: Retrying (Retry(total=2, connect=None, read=None, redirect=None, status=None)) after connection broken by 'NewConnectionError('<pip._vendor.urllib3.connection.HTTPSConnection object at 0x7ea09311a590>: Failed to establish a new connection: [Errno -3] Temporary failure in name resolution')': /simple/openpyxl/\u001b[0m\r\n",
      "\u001b[33mWARNING: Retrying (Retry(total=1, connect=None, read=None, redirect=None, status=None)) after connection broken by 'NewConnectionError('<pip._vendor.urllib3.connection.HTTPSConnection object at 0x7ea09311a8d0>: Failed to establish a new connection: [Errno -3] Temporary failure in name resolution')': /simple/openpyxl/\u001b[0m\r\n",
      "\u001b[33mWARNING: Retrying (Retry(total=0, connect=None, read=None, redirect=None, status=None)) after connection broken by 'NewConnectionError('<pip._vendor.urllib3.connection.HTTPSConnection object at 0x7ea09311ac10>: Failed to establish a new connection: [Errno -3] Temporary failure in name resolution')': /simple/openpyxl/\u001b[0m\r\n",
      "\u001b[31mERROR: Could not find a version that satisfies the requirement openpyxl\u001b[0m\r\n",
      "\u001b[31mERROR: No matching distribution found for openpyxl\u001b[0m\r\n",
      "Note: you may need to restart the kernel to use updated packages.\n"
     ]
    }
   ],
   "source": [
    "pip install openpyxl"
   ]
  }
 ],
 "metadata": {
  "kaggle": {
   "accelerator": "none",
   "dataSources": [
    {
     "datasetId": 745526,
     "sourceId": 2331945,
     "sourceType": "datasetVersion"
    }
   ],
   "dockerImageVersionId": 30055,
   "isGpuEnabled": false,
   "isInternetEnabled": false,
   "language": "python",
   "sourceType": "notebook"
  },
  "kernelspec": {
   "display_name": "Python 3",
   "language": "python",
   "name": "python3"
  },
  "language_info": {
   "codemirror_mode": {
    "name": "ipython",
    "version": 3
   },
   "file_extension": ".py",
   "mimetype": "text/x-python",
   "name": "python",
   "nbconvert_exporter": "python",
   "pygments_lexer": "ipython3",
   "version": "3.7.9"
  },
  "papermill": {
   "default_parameters": {},
   "duration": 155.034049,
   "end_time": "2023-12-12T12:44:49.444355",
   "environment_variables": {},
   "exception": null,
   "input_path": "__notebook__.ipynb",
   "output_path": "__notebook__.ipynb",
   "parameters": {},
   "start_time": "2023-12-12T12:42:14.410306",
   "version": "2.2.2"
  }
 },
 "nbformat": 4,
 "nbformat_minor": 4
}
